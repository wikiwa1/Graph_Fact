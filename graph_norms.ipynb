{
 "cells": [
  {
   "cell_type": "markdown",
   "id": "87f93ac0",
   "metadata": {},
   "source": [
    "We retrieve the results obtained in `graph_fact.py`"
   ]
  },
  {
   "cell_type": "code",
   "execution_count": 1,
   "id": "d081d7f4",
   "metadata": {},
   "outputs": [],
   "source": [
    "import time\n",
    "import numpy as np\n",
    "import pickle\n",
    "with open(r\"c:\\Users\\cacereje\\OneDrive\\Vanderbilt\\Postdoc 2025 Fall\\Code\\Graph_Fact\\result.pkl\", \"rb\") as f:\n",
    "     result = pickle.load(f)"
   ]
  },
  {
   "cell_type": "markdown",
   "id": "61717641",
   "metadata": {},
   "source": [
    "To determine the factored graph $G$, we just multiply all the matrices in any list of `results`."
   ]
  },
  {
   "cell_type": "code",
   "execution_count": 2,
   "id": "aae6f6bd",
   "metadata": {},
   "outputs": [
    {
     "data": {
      "text/latex": [
       "$\\displaystyle \\left[\\begin{matrix}1 & 0 & 1 & 0 & 0 & 0 & 0 & 0\\\\0 & 1 & 0 & 1 & 0 & 0 & 0 & 0\\\\0 & 0 & 1 & 1 & 1 & 1 & 0 & 0\\\\0 & 0 & 0 & 0 & 1 & 0 & 1 & 0\\\\0 & 0 & 0 & 0 & 0 & 1 & 0 & 1\\end{matrix}\\right]$"
      ],
      "text/plain": [
       "Matrix([\n",
       "[1, 0, 1, 0, 0, 0, 0, 0],\n",
       "[0, 1, 0, 1, 0, 0, 0, 0],\n",
       "[0, 0, 1, 1, 1, 1, 0, 0],\n",
       "[0, 0, 0, 0, 1, 0, 1, 0],\n",
       "[0, 0, 0, 0, 0, 1, 0, 1]])"
      ]
     },
     "execution_count": 2,
     "metadata": {},
     "output_type": "execute_result"
    }
   ],
   "source": [
    "import sympy as sp\n",
    "\n",
    "G = sp.Matrix(np.linalg.multi_dot(result[0]))\n",
    "G"
   ]
  },
  {
   "cell_type": "markdown",
   "id": "a2176f73",
   "metadata": {},
   "source": [
    "Here $a_n$ and $s_n$ will be the dimension and trace vector of $A_{0n}$. This means that $s_n$ is a PF eigenvector of $GG^t$. Moreover, to have $\\tau(1)=1$ we make sure that $\\langle a_n, s_n\\rangle =1$."
   ]
  },
  {
   "cell_type": "code",
   "execution_count": null,
   "id": "02f97ee8",
   "metadata": {},
   "outputs": [],
   "source": [
    "## The functions below compute the dimension vector, trace vectors and norm for the bottom and intermediate inclusions.\n",
    "\n",
    "a_0 = sp.ones(5,1)\n",
    "b_0 = (G.T)*a_0\n",
    "s_0_raw = (G*(G.T)).eigenvects()[-1][-1][0]\n",
    "t_0_raw = ((G.T)*G).eigenvects()[-1][-1][0]\n",
    "s_0 = s_0_raw/((a_0.T*s_0_raw)[0])\n",
    "s_0 = sp.together(sp.simplify(s_0))\n",
    "t_0 = t_0_raw/((b_0.T*t_0_raw)[0])\n",
    "t_0 = sp.together(sp.simplify(t_0))\n",
    "\n",
    "def a(n):\n",
    "    return ((G*(G.T))**(n))*a_0 \n",
    "\n",
    "def b(n):\n",
    "    return (((G.T)*G)**(n))*b_0 \n",
    "\n",
    "def s(n):\n",
    "    s = s_0/((a(n).T*s_0)[0])\n",
    "    return sp.together(sp.simplify(s))\n",
    "\n",
    "def t(n):\n",
    "    t = t_0/((b(n).T*t_0)[0])\n",
    "    return sp.together(sp.simplify(t))\n",
    "\n"
   ]
  },
  {
   "cell_type": "markdown",
   "id": "a5a79f1a",
   "metadata": {},
   "source": [
    "Theorem 1.4 in [here](https://www.proquest.com/openview/95bfe6ed9987b6718ad3feb95a1480bd/1?pq-origsite=gscholar&cbl=18750&diss=y) implies that since the bottom inclusion is periodic then there exists $n_1$ such that for all $n\\geq n_1$ we have $$G_{0,n}G_{0,n}^t s_n = [A_{1,\\infty}:A_{0,\\infty}] s_n$$\n",
    "where \n",
    "$$G_{0,n}G_{1,n} = \\begin{cases}G&,n\\text{ even}\\\\\n",
    "G^t&,n\\text{ odd}\\end{cases}$$\n",
    "and $[A_{1,\\infty}:A_{0,\\infty}]=\\|s_n\\|^2/\\|t_n\\|^2$. \n",
    "\n",
    "We will compute this quantity and determine if there is any pair $(G_{0,n},G_{1,n})$ for which this is equal to $\\frac{3+\\sqrt{5}}{2}$ or $2$."
   ]
  },
  {
   "cell_type": "code",
   "execution_count": 5,
   "id": "b2625f6c",
   "metadata": {},
   "outputs": [
    {
     "data": {
      "text/plain": [
       "2.618033988749895"
      ]
     },
     "execution_count": 5,
     "metadata": {},
     "output_type": "execute_result"
    }
   ],
   "source": [
    "threshold = (3+np.sqrt(5))/2\n",
    "threshold"
   ]
  },
  {
   "cell_type": "markdown",
   "id": "89f263f4",
   "metadata": {},
   "source": [
    "Using our building block decomposition we form all pairs $(G_{0,n},G_{1,n})$, eliminating isomorphic pairs at every step."
   ]
  },
  {
   "cell_type": "code",
   "execution_count": null,
   "id": "4044800a",
   "metadata": {},
   "outputs": [],
   "source": [
    "# no longer needed\n",
    "# Gf = np.linalg.multi_dot(result[0])\n",
    "# af_0 = np.ones((5,1))\n",
    "# eigvals, eigvects = np.linalg.eig(Gf@np.transpose(Gf))\n",
    "# sf_0_raw = -eigvects[:,0]\n",
    "# sf_0 = sf_0_raw/(sf_0_raw@af_0)\n",
    "\n",
    "# def af(n):\n",
    "#     return (np.linalg.matrix_power(Gf@np.transpose(Gf),n))@af_0\n",
    "\n",
    "# def sf(n):\n",
    "#     return sf_0/(sf_0@af(n))\n",
    "\n",
    "# def norm_lim(A,n):\n",
    "#     s = sf(n)\n",
    "#     return (((A@np.transpose(A))@s)@s)/(np.linalg.norm(s)**2)"
   ]
  },
  {
   "cell_type": "code",
   "execution_count": null,
   "id": "6dd03051",
   "metadata": {},
   "outputs": [],
   "source": [
    "# no longer needed\n",
    "# candidates = []\n",
    "# tol = 0.5\n",
    "\n",
    "# for list in result:\n",
    "#     r = len(list)\n",
    "#     for i in range(2,r-1):\n",
    "#         G1f = np.linalg.multi_dot(list[:i])\n",
    "#         G2f = np.linalg.multi_dot(list[i:])\n",
    "#         if threshold-tol<norm_lim(G1f,0)<threshold:\n",
    "#             candidates.append([G1f,G2f])\n"
   ]
  },
  {
   "cell_type": "code",
   "execution_count": 15,
   "id": "e37c9a90",
   "metadata": {},
   "outputs": [
    {
     "name": "stdout",
     "output_type": "stream",
     "text": [
      "35\n"
     ]
    }
   ],
   "source": [
    "from graph_fact_tools import *\n",
    "\n",
    "candidates_abs = []\n",
    "for list in result:\n",
    "    r = len(list)\n",
    "    G1f = list[:1][0]\n",
    "    G2f = np.linalg.multi_dot(list[1:])\n",
    "    candidates_abs.append([G1f,G2f])\n",
    "    G1f = np.linalg.multi_dot(list[:10])\n",
    "    G2f = list[10:][0]\n",
    "    candidates_abs.append([G1f,G2f])\n",
    "    for i in range(2,r-1):\n",
    "        G1f = np.linalg.multi_dot(list[:i])\n",
    "        G2f = np.linalg.multi_dot(list[i:])\n",
    "        candidates_abs.append([G1f,G2f])\n",
    "    candidates_abs = dedupe_chains(candidates_abs)\n",
    "print(len(candidates_abs))"
   ]
  },
  {
   "cell_type": "markdown",
   "id": "64bc1d96",
   "metadata": {},
   "source": [
    "In the hidden cell below we have the functions to compute $\\frac{\\|s_n\\|^2}{\\|t_n\\|^2}$."
   ]
  },
  {
   "cell_type": "code",
   "execution_count": null,
   "id": "8a3ce4a3",
   "metadata": {},
   "outputs": [],
   "source": [
    "def r(n,G2): #Returns the trace vector for the intermediate algebras\n",
    "    return sp.together(sp.simplify(G2*t(n)))\n",
    "\n",
    "def norm_lim(pair): #Computes the index by determining when the ratio |s_n|^2/|r_n|^2 stabilizes\n",
    "    temp = 0\n",
    "    n = 0\n",
    "    while True:\n",
    "        norm = sp.together(sp.simplify((((s(n).T)*s(n))[0])/(((r(n,pair[1]).T)*r(n,pair[1]))[0])))\n",
    "        if norm == temp:\n",
    "            break\n",
    "        temp = norm\n",
    "        n = n+1\n",
    "    return temp\n",
    "\n",
    "#If we suppose the first vertical inclusion is G^t we consider the following dimension and trace vectors\n",
    "\n",
    "b1_0 = sp.ones(8,1) #Dimension for bottom inclusion\n",
    "a1_0 = G*b1_0       #Dimension for top inclusion\n",
    "\n",
    "def a1(n):          #Dimension for top inclusion\n",
    "    return ((G*(G.T))**(n))*a1_0 \n",
    "\n",
    "def b1(n):          #Dimension for bottom inclusion\n",
    "    return (((G.T)*G)**(n))*b1_0\n",
    "\n",
    "def s1(n):          #Trace vector for top inclusion\n",
    "    s = s_0/((a1(n).T*s_0)[0])\n",
    "    return sp.together(sp.simplify(s))\n",
    "\n",
    "def t1(n):          #Trace vector for bottom inclusion\n",
    "    t = t_0/((b1(n).T*t_0)[0])\n",
    "    return sp.together(sp.simplify(t))\n",
    "\n",
    "def q(n,G1):        #Trace vector for intermediate inclusion\n",
    "    return sp.together(sp.simplify((G1.T)*s1(n)))\n",
    "\n",
    "def norm_lim2(pair):    #Computes the index by determining when the ratio |t^1_n|^2/|q_n|^2 stabilizes\n",
    "    temp = 0\n",
    "    n = 0\n",
    "    while True:\n",
    "        norm = sp.together(sp.simplify((((t1(n).T)*t1(n))[0])/(((q(n,pair[0]).T)*q(n,pair[0]))[0])))\n",
    "        if norm == temp:\n",
    "            break\n",
    "        temp = norm\n",
    "        n = n+1\n",
    "    return temp\n"
   ]
  },
  {
   "cell_type": "markdown",
   "id": "a7013ecc",
   "metadata": {},
   "source": [
    "We obtained precisely $35$ pairs. Now, transform our candidate list to a list of symbolic matrices and compute their norms symbolically."
   ]
  },
  {
   "cell_type": "code",
   "execution_count": 146,
   "id": "7043b12a",
   "metadata": {},
   "outputs": [],
   "source": [
    "candidates_sym = [[sp.Matrix(pair[0]),sp.Matrix(pair[1])] for pair in candidates_abs]\n",
    "#norm_list = [[norm_sym(pair[0],0),norm_sym2(pair[1],0)] for pair in candidates_sym]\n",
    "norm_list = [[norm_lim(pair),norm_lim2(pair)] for pair in candidates_sym]"
   ]
  },
  {
   "cell_type": "markdown",
   "id": "9100143b",
   "metadata": {},
   "source": [
    "Below we have the list of norm pairs for all of our unique factorizations."
   ]
  },
  {
   "cell_type": "code",
   "execution_count": 148,
   "id": "77fe15f4",
   "metadata": {},
   "outputs": [
    {
     "data": {
      "text/latex": [
       "$\\displaystyle \\begin{array}{r r r c c c}\n",
       "\\text{Norm 1} & \\text{Norm 2} & \\text{count} & \\|G_{0,n}\\|^2 & \\|G_{1,n}^t\\|^2 & \\text{Product}\\\\ \\hline\n",
       "1.02181843 & 4.89764877 & 1 & \\frac{4 \\left(3 \\sqrt{5} + 85\\right)}{359} & \\frac{8 \\left(12 \\sqrt{5} + 35\\right)}{101} & \\frac{160 \\left(225 \\sqrt{5} + 631\\right)}{36259}\\\\\n",
       "1.04461018 & 4.60031946 & 1 & \\frac{2 \\left(\\sqrt{5} + 15\\right)}{33} & \\frac{4 \\left(7 \\sqrt{5} + 20\\right)}{31} & \\frac{40 \\left(25 \\sqrt{5} + 67\\right)}{1023}\\\\\n",
       "1.06844187 & 4.33702484 & 1 & \\frac{4 \\left(9 \\sqrt{5} + 95\\right)}{431} & \\frac{8 \\left(16 \\sqrt{5} + 45\\right)}{149} & \\frac{160 \\left(385 \\sqrt{5} + 999\\right)}{64219}\\\\\n",
       "1.09338634 & 4.10223744 & 1 & \\frac{3 \\sqrt{5} + 25}{29} & \\frac{9 \\sqrt{5} + 25}{11} & \\frac{20 \\left(15 \\sqrt{5} + 38\\right)}{319}\\\\\n",
       "1.37240582 & 3.03785526 & 1 & \\frac{4 \\left(3 \\sqrt{5} + 65\\right)}{209} & \\frac{2 \\left(3 \\sqrt{5} + 10\\right)}{11} & \\frac{40 \\left(45 \\sqrt{5} + 139\\right)}{2299}\\\\\n",
       "1.41383742 & 2.92076370 & 2 & \\frac{2 \\left(3 \\sqrt{5} + 35\\right)}{59} & \\frac{8 \\left(14 \\sqrt{5} + 45\\right)}{209} & \\frac{80 \\left(125 \\sqrt{5} + 357\\right)}{12331}\\\\\n",
       "1.45784846 & 2.81236353 & 2 & \\frac{4 \\left(3 \\sqrt{5} + 25\\right)}{87} & \\frac{4 \\left(8 \\sqrt{5} + 25\\right)}{61} & \\frac{80 \\left(55 \\sqrt{5} + 149\\right)}{5307}\\\\\n",
       "1.50468755 & 2.71172167 & 2 & \\frac{4 \\left(3 \\sqrt{5} + 20\\right)}{71} & \\frac{8 \\left(18 \\sqrt{5} + 55\\right)}{281} & \\frac{160 \\left(105 \\sqrt{5} + 274\\right)}{19951}\\\\\n",
       "1.55463632 & 2.61803399 & 1 & \\frac{4 \\left(3 \\sqrt{5} + 17\\right)}{61} & \\frac{\\sqrt{5} + 3}{2} & \\frac{4 \\left(13 \\sqrt{5} + 33\\right)}{61}\\\\\n",
       "1.56691527 & 3.03785526 & 1 & \\frac{\\sqrt{5} + 15}{11} & \\frac{2 \\left(3 \\sqrt{5} + 10\\right)}{11} & \\frac{10 \\left(\\sqrt{5} + 3\\right)}{11}\\\\\n",
       "1.62115529 & 2.92076370 & 1 & \\frac{4 \\left(7 \\sqrt{5} + 65\\right)}{199} & \\frac{8 \\left(14 \\sqrt{5} + 45\\right)}{209} & \\frac{160 \\left(245 \\sqrt{5} + 683\\right)}{41591}\\\\\n",
       "1.67928509 & 2.81236353 & 2 & \\frac{2 \\left(\\sqrt{5} + 7\\right)}{11} & \\frac{4 \\left(8 \\sqrt{5} + 25\\right)}{61} & \\frac{8 \\left(81 \\sqrt{5} + 215\\right)}{671}\\\\\n",
       "1.74173864 & 2.71172167 & 1 & \\frac{4 \\left(13 \\sqrt{5} + 75\\right)}{239} & \\frac{8 \\left(18 \\sqrt{5} + 55\\right)}{281} & \\frac{160 \\left(413 \\sqrt{5} + 1059\\right)}{67159}\\\\\n",
       "1.80901699 & 2.61803399 & 1 & \\frac{\\sqrt{5} + 5}{4} & \\frac{\\sqrt{5} + 3}{2} & \\frac{2 \\sqrt{5} + 5}{2}\\\\\n",
       "1.82566455 & 2.13960399 & 1 & \\frac{4 \\left(\\sqrt{5} + 11\\right)}{29} & \\frac{7 \\sqrt{5} + 25}{19} & \\frac{8 \\left(51 \\sqrt{5} + 155\\right)}{551}\\\\\n",
       "1.89972058 & 2.08085015 & 2 & \\frac{4 \\left(2 \\sqrt{5} + 15\\right)}{41} & \\frac{8 \\left(16 \\sqrt{5} + 55\\right)}{349} & \\frac{160 \\left(70 \\sqrt{5} + 197\\right)}{14309}\\\\\n",
       "1.98003862 & 2.02523684 & 3 & \\frac{4 \\left(11 \\sqrt{5} + 65\\right)}{181} & \\frac{4 \\left(3 \\sqrt{5} + 10\\right)}{33} & \\frac{80 \\left(61 \\sqrt{5} + 163\\right)}{5973}\\\\\n",
       "2.06744799 & 1.97251882 & 2 & \\frac{2 \\left(\\sqrt{5} + 5\\right)}{7} & \\frac{8 \\left(4 \\sqrt{5} + 13\\right)}{89} & \\frac{16 \\left(33 \\sqrt{5} + 85\\right)}{623}\\\\\n",
       "2.16293121 & 1.92247573 & 1 & \\frac{4 \\left(17 \\sqrt{5} + 75\\right)}{209} & \\frac{11 \\sqrt{5} + 35}{31} & \\frac{80 \\left(71 \\sqrt{5} + 178\\right)}{6479}\\\\\n",
       "2.18677268 & 1.65132910 & 1 & \\frac{2 \\left(3 \\sqrt{5} + 25\\right)}{29} & \\frac{2 \\left(4 \\sqrt{5} + 15\\right)}{29} & \\frac{20 \\left(\\sqrt{5} + 3\\right)}{29}\\\\\n",
       "2.29388128 & 1.61611092 & 1 & \\frac{4 \\left(9 \\sqrt{5} + 55\\right)}{131} & \\frac{8 \\left(18 \\sqrt{5} + 65\\right)}{521} & \\frac{160 \\left(315 \\sqrt{5} + 877\\right)}{68251}\\\\\n",
       "2.41202266 & 1.58236358 & 1 & \\frac{\\sqrt{5} + 5}{3} & \\frac{4 \\left(2 \\sqrt{5} + 7\\right)}{29} & \\frac{4 \\left(17 \\sqrt{5} + 45\\right)}{87}\\\\\n",
       "2.54299406 & 1.54999682 & 1 & \\frac{4 \\left(3 \\sqrt{5} + 13\\right)}{31} & \\frac{8 \\left(22 \\sqrt{5} + 75\\right)}{641} & \\frac{32 \\left(511 \\sqrt{5} + 1305\\right)}{19871}\\\\\n",
       "2.68900545 & 1.51892763 & 1 & \\frac{2 \\left(9 \\sqrt{5} + 35\\right)}{41} & \\frac{3 \\sqrt{5} + 10}{11} & \\frac{10 \\left(39 \\sqrt{5} + 97\\right)}{451}\\\\\n",
       "3.06129371 & 1.34450273 & 1 & \\frac{8 \\left(37 \\sqrt{5} + 135\\right)}{569} & \\frac{9 \\sqrt{5} + 35}{41} & \\frac{80 \\left(251 \\sqrt{5} + 639\\right)}{23329}\\\\\n",
       "3.55323278 & 1.20601133 & 1 & \\frac{4 \\left(19 \\sqrt{5} + 65\\right)}{121} & \\frac{\\sqrt{5} + 5}{6} & \\frac{40 \\left(8 \\sqrt{5} + 21\\right)}{363}\\\\\n",
       "4.23354915 & 1.09338634 & 1 & \\frac{8 \\left(39 \\sqrt{5} + 125\\right)}{401} & \\frac{3 \\sqrt{5} + 25}{29} & \\frac{80 \\left(135 \\sqrt{5} + 371\\right)}{11629}\\\\\n",
       "\\end{array}$"
      ],
      "text/plain": [
       "<IPython.core.display.Math object>"
      ]
     },
     "metadata": {},
     "output_type": "display_data"
    }
   ],
   "source": [
    "from collections import Counter\n",
    "from sympy import latex, simplify\n",
    "from IPython.display import Math\n",
    "\n",
    "# convert to numeric (higher precision) then round for grouping\n",
    "pairs_num = []\n",
    "rep_sym = {}\n",
    "for a_sym, b_sym in norm_list:\n",
    "    af = float(sp.N(a_sym, 24))\n",
    "    bf = float(sp.N(b_sym, 24))\n",
    "    key = (round(af, 8), round(bf, 8))   # adjust precision as needed\n",
    "    pairs_num.append(key)\n",
    "    rep_sym.setdefault(key, (a_sym, b_sym))\n",
    "\n",
    "cnt = Counter(pairs_num)\n",
    "\n",
    "rows = []\n",
    "for (n1, n2), c in sorted(cnt.items()):\n",
    "    a_sym, b_sym = rep_sym[(n1, n2)]\n",
    "    prod_sym = latex(sp.together(simplify(a_sym*b_sym)))\n",
    "    a_tex = latex(sp.together(simplify(a_sym)))\n",
    "    b_tex = latex(sp.together(simplify(b_sym)))\n",
    "    rep_tex = f\"{a_tex} & {b_tex}\"          # math-mode representative\n",
    "    rows.append(f\"{n1:.8f} & {n2:.8f} & {c:d} & {rep_tex} & {prod_sym}\\\\\\\\\")\n",
    "\n",
    "# header + join\n",
    "header = r\"\\text{Norm 1} & \\text{Norm 2} & \\text{count} & \\|G_{0,n}\\|^2 & \\|G_{1,n}^t\\|^2 & \\text{Product}\\\\ \\hline\"\n",
    "body = \"\\n\".join(rows)\n",
    "array_tex = r\"\\begin{array}{r r r c c c}\" + \"\\n\" + header + \"\\n\" + body + \"\\n\" + r\"\\end{array}\"\n",
    "\n",
    "display(Math(array_tex))"
   ]
  },
  {
   "cell_type": "markdown",
   "id": "dc155385",
   "metadata": {},
   "source": [
    "None of them have norm $2$."
   ]
  }
 ],
 "metadata": {
  "kernelspec": {
   "display_name": "erdos_spring_2025",
   "language": "python",
   "name": "python3"
  },
  "language_info": {
   "codemirror_mode": {
    "name": "ipython",
    "version": 3
   },
   "file_extension": ".py",
   "mimetype": "text/x-python",
   "name": "python",
   "nbconvert_exporter": "python",
   "pygments_lexer": "ipython3",
   "version": "3.12.8"
  }
 },
 "nbformat": 4,
 "nbformat_minor": 5
}
