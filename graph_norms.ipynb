{
 "cells": [
  {
   "cell_type": "markdown",
   "id": "87f93ac0",
   "metadata": {},
   "source": [
    "We retrieve the results obtained in `graph_fact.py`"
   ]
  },
  {
   "cell_type": "code",
   "execution_count": 1,
   "id": "d081d7f4",
   "metadata": {},
   "outputs": [],
   "source": [
    "import time\n",
    "import numpy as np\n",
    "import pickle\n",
    "with open(r\"c:\\Users\\cacereje\\OneDrive\\Vanderbilt\\Postdoc 2025 Fall\\Code\\Graph_Fact\\result.pkl\", \"rb\") as f:\n",
    "     result = pickle.load(f)"
   ]
  },
  {
   "cell_type": "markdown",
   "id": "61717641",
   "metadata": {},
   "source": [
    "To determine the factored graph $G$, we just multiply all the matrices in any list of `results`."
   ]
  },
  {
   "cell_type": "code",
   "execution_count": 2,
   "id": "aae6f6bd",
   "metadata": {},
   "outputs": [
    {
     "data": {
      "text/latex": [
       "$\\displaystyle \\left[\\begin{matrix}1 & 0 & 1 & 0 & 0 & 0 & 0 & 0\\\\0 & 1 & 0 & 1 & 0 & 0 & 0 & 0\\\\0 & 0 & 1 & 1 & 1 & 1 & 0 & 0\\\\0 & 0 & 0 & 0 & 1 & 0 & 1 & 0\\\\0 & 0 & 0 & 0 & 0 & 1 & 0 & 1\\end{matrix}\\right]$"
      ],
      "text/plain": [
       "Matrix([\n",
       "[1, 0, 1, 0, 0, 0, 0, 0],\n",
       "[0, 1, 0, 1, 0, 0, 0, 0],\n",
       "[0, 0, 1, 1, 1, 1, 0, 0],\n",
       "[0, 0, 0, 0, 1, 0, 1, 0],\n",
       "[0, 0, 0, 0, 0, 1, 0, 1]])"
      ]
     },
     "execution_count": 2,
     "metadata": {},
     "output_type": "execute_result"
    }
   ],
   "source": [
    "import sympy as sp\n",
    "\n",
    "G = sp.Matrix(np.linalg.multi_dot(result[0]))\n",
    "G"
   ]
  },
  {
   "cell_type": "markdown",
   "id": "a2176f73",
   "metadata": {},
   "source": [
    "Here $a_n$ and $s_n$ will be the dimension and trace vector of $A_{0n}$. This means that $s_n$ is a PF eigenvector of $GG^t$. Moreover, to have $\\tau(1)=1$ we make sure that $\\langle a_n, s_n\\rangle =1$."
   ]
  },
  {
   "cell_type": "code",
   "execution_count": null,
   "id": "02f97ee8",
   "metadata": {},
   "outputs": [],
   "source": [
    "## The functions below compute the dimension vector, trace vectors and norm for the bottom and intermediate inclusions.\n",
    "\n",
    "a_0 = sp.ones(5,1)\n",
    "b_0 = (G.T)*a_0\n",
    "s_0_raw = (G*(G.T)).eigenvects()[-1][-1][0]\n",
    "t_0_raw = ((G.T)*G).eigenvects()[-1][-1][0]\n",
    "s_0 = s_0_raw/((a_0.T*s_0_raw)[0])\n",
    "s_0 = sp.together(sp.simplify(s_0))\n",
    "t_0 = t_0_raw/((b_0.T*t_0_raw)[0])\n",
    "t_0 = sp.together(sp.simplify(t_0))\n",
    "\n",
    "def a(n):\n",
    "    return ((G*(G.T))**(n))*a_0 \n",
    "\n",
    "def b(n):\n",
    "    return (((G.T)*G)**(n))*b_0 \n",
    "\n",
    "def s(n):\n",
    "    s = s_0/((a(n).T*s_0)[0])\n",
    "    return sp.together(sp.simplify(s))\n",
    "\n",
    "def t(n):\n",
    "    t = t_0/((b(n).T*t_0)[0])\n",
    "    return sp.together(sp.simplify(t))\n",
    "\n",
    "def norm_sym(A,n):\n",
    "    sa = s(n)\n",
    "    return sp.together(sp.simplify(sp.expand((A*(A.T)*sa).T*sa)/(((sa.T)*sa)[0])))[0]\n",
    "\n",
    "def norm_sym2(A,n):\n",
    "    ta = t(n)\n",
    "    return sp.together(sp.simplify(sp.expand(((A.T)*A*ta).T*ta)/(((ta.T)*ta)[0])))[0]"
   ]
  },
  {
   "cell_type": "markdown",
   "id": "a5a79f1a",
   "metadata": {},
   "source": [
    "Theorem 1.4 in [here](https://www.proquest.com/openview/95bfe6ed9987b6718ad3feb95a1480bd/1?pq-origsite=gscholar&cbl=18750&diss=y) implies that since the bottom inclusion is periodic then there exists $n_1$ such that for all $n\\geq n_1$ we have $$G_{0,n}G_{0,n}^t s_n = [A_{1,\\infty}:A_{0,\\infty}] s_n$$\n",
    "where \n",
    "$$G_{0,n}G_{1,n} = \\begin{cases}G&,n\\text{ even}\\\\\n",
    "G^t&,n\\text{ odd}\\end{cases}$$\n",
    "and $[A_{1,\\infty}:A_{0,\\infty}]=\\|s_n\\|^2/\\|t_n\\|^2$. To avoid dealing with the trace vector $t_n$ of the middle inclusions, we will compute\n",
    "$$\\frac{\\langle G_{0,n}G_{0,n}^t s_n,s_n\\rangle}{\\|s_n\\|^2}$$\n",
    "and determine if there is any pair $(G_{0,n},G_{1,n})$ for which this is equal to $\\frac{3+\\sqrt{5}}{2}$."
   ]
  },
  {
   "cell_type": "code",
   "execution_count": 5,
   "id": "b2625f6c",
   "metadata": {},
   "outputs": [
    {
     "data": {
      "text/plain": [
       "2.618033988749895"
      ]
     },
     "execution_count": 5,
     "metadata": {},
     "output_type": "execute_result"
    }
   ],
   "source": [
    "threshold = (3+np.sqrt(5))/2\n",
    "threshold"
   ]
  },
  {
   "cell_type": "markdown",
   "id": "89f263f4",
   "metadata": {},
   "source": [
    "Using our building block decomposition we form all pairs $(G_{0,n},G_{1,n})$, eliminating isomorphic pairs at every step."
   ]
  },
  {
   "cell_type": "code",
   "execution_count": null,
   "id": "4044800a",
   "metadata": {},
   "outputs": [],
   "source": [
    "# no longer needed\n",
    "# Gf = np.linalg.multi_dot(result[0])\n",
    "# af_0 = np.ones((5,1))\n",
    "# eigvals, eigvects = np.linalg.eig(Gf@np.transpose(Gf))\n",
    "# sf_0_raw = -eigvects[:,0]\n",
    "# sf_0 = sf_0_raw/(sf_0_raw@af_0)\n",
    "\n",
    "# def af(n):\n",
    "#     return (np.linalg.matrix_power(Gf@np.transpose(Gf),n))@af_0\n",
    "\n",
    "# def sf(n):\n",
    "#     return sf_0/(sf_0@af(n))\n",
    "\n",
    "# def norm_lim(A,n):\n",
    "#     s = sf(n)\n",
    "#     return (((A@np.transpose(A))@s)@s)/(np.linalg.norm(s)**2)"
   ]
  },
  {
   "cell_type": "code",
   "execution_count": null,
   "id": "6dd03051",
   "metadata": {},
   "outputs": [],
   "source": [
    "# no longer needed\n",
    "# candidates = []\n",
    "# tol = 0.5\n",
    "\n",
    "# for list in result:\n",
    "#     r = len(list)\n",
    "#     for i in range(2,r-1):\n",
    "#         G1f = np.linalg.multi_dot(list[:i])\n",
    "#         G2f = np.linalg.multi_dot(list[i:])\n",
    "#         if threshold-tol<norm_lim(G1f,0)<threshold:\n",
    "#             candidates.append([G1f,G2f])\n"
   ]
  },
  {
   "cell_type": "code",
   "execution_count": 90,
   "id": "e37c9a90",
   "metadata": {},
   "outputs": [
    {
     "name": "stdout",
     "output_type": "stream",
     "text": [
      "35\n"
     ]
    }
   ],
   "source": [
    "from graph_fact_tools import *\n",
    "\n",
    "candidates_abs = []\n",
    "for list in result:\n",
    "    r = len(list)\n",
    "    G1f = list[:1][0]\n",
    "    G2f = np.linalg.multi_dot(list[1:])\n",
    "    candidates_abs.append([G1f,G2f])\n",
    "    G1f = np.linalg.multi_dot(list[:10])\n",
    "    G2f = list[10:][0]\n",
    "    candidates_abs.append([G1f,G2f])\n",
    "    for i in range(2,r-1):\n",
    "        G1f = np.linalg.multi_dot(list[:i])\n",
    "        G2f = np.linalg.multi_dot(list[i:])\n",
    "        candidates_abs.append([G1f,G2f])\n",
    "    candidates_abs = dedupe_chains(candidates_abs)\n",
    "print(len(candidates_abs))"
   ]
  },
  {
   "cell_type": "markdown",
   "id": "a7013ecc",
   "metadata": {},
   "source": [
    "We obtained precisely $35$ pairs. Now, transform our candidate list to a list of symbolic matrices and compute their norms symbolically."
   ]
  },
  {
   "cell_type": "code",
   "execution_count": 152,
   "id": "7043b12a",
   "metadata": {},
   "outputs": [],
   "source": [
    "candidates_sym = [[sp.Matrix(pair[0]),sp.Matrix(pair[1])] for pair in candidates_abs]\n",
    "norm_list = [[norm_sym(pair[0],0),norm_sym2(pair[1],0)] for pair in candidates_sym]"
   ]
  },
  {
   "cell_type": "markdown",
   "id": "9100143b",
   "metadata": {},
   "source": [
    "Below we have the list of norm pairs for all of our unique factorizations."
   ]
  },
  {
   "cell_type": "code",
   "execution_count": 153,
   "id": "77fe15f4",
   "metadata": {},
   "outputs": [
    {
     "data": {
      "text/latex": [
       "$\\displaystyle \\begin{array}{r r r c c c}\n",
       "\\text{Norm 1} & \\text{Norm 2} & \\text{count} & \\|G_{0,n}\\|^2 & \\|G_{1,n}\\|^2 & \\text{Product}\\\\ \\hline\n",
       "1.06909830 & 5.12426458 & 1 & \\frac{45 - \\sqrt{5}}{40} & \\frac{19 \\sqrt{5} + 60}{20} & \\frac{159 \\sqrt{5} + 521}{160}\\\\\n",
       "1.13819660 & 5.01246118 & 1 & \\frac{25 - \\sqrt{5}}{20} & \\frac{3 \\left(3 \\sqrt{5} + 10\\right)}{10} & \\frac{3 \\left(13 \\sqrt{5} + 47\\right)}{40}\\\\\n",
       "1.20729490 & 4.90065778 & 1 & \\frac{55 - 3 \\sqrt{5}}{40} & \\frac{17 \\sqrt{5} + 60}{20} & \\frac{151 \\sqrt{5} + 609}{160}\\\\\n",
       "1.27639320 & 4.78885438 & 1 & \\frac{15 - \\sqrt{5}}{10} & \\frac{4 \\sqrt{5} + 15}{5} & \\frac{9 \\sqrt{5} + 41}{10}\\\\\n",
       "1.72360680 & 3.34164079 & 1 & \\frac{\\sqrt{5} + 15}{10} & \\frac{3 \\sqrt{5} + 10}{5} & \\frac{11 \\left(\\sqrt{5} + 3\\right)}{10}\\\\\n",
       "1.72360680 & 3.81524758 & 1 & \\frac{\\sqrt{5} + 15}{10} & \\frac{14 \\sqrt{5} + 45}{20} & \\frac{51 \\sqrt{5} + 149}{40}\\\\\n",
       "1.79270510 & 3.22983739 & 1 & \\frac{3 \\sqrt{5} + 65}{40} & \\frac{11 \\sqrt{5} + 40}{20} & \\frac{167 \\sqrt{5} + 553}{160}\\\\\n",
       "1.79270510 & 3.70344419 & 2 & \\frac{3 \\sqrt{5} + 65}{40} & \\frac{13 \\sqrt{5} + 45}{20} & \\frac{49 \\sqrt{5} + 156}{40}\\\\\n",
       "1.86180340 & 3.11803399 & 2 & \\frac{\\sqrt{5} + 35}{20} & \\frac{\\sqrt{5} + 4}{2} & \\frac{39 \\sqrt{5} + 145}{40}\\\\\n",
       "1.86180340 & 3.59164079 & 2 & \\frac{\\sqrt{5} + 35}{20} & \\frac{3 \\left(4 \\sqrt{5} + 15\\right)}{20} & \\frac{3 \\left(31 \\sqrt{5} + 109\\right)}{80}\\\\\n",
       "1.93090170 & 3.00623059 & 1 & \\frac{\\sqrt{5} + 75}{40} & \\frac{9 \\sqrt{5} + 40}{20} & \\frac{143 \\sqrt{5} + 609}{160}\\\\\n",
       "1.93090170 & 3.47983739 & 2 & \\frac{\\sqrt{5} + 75}{40} & \\frac{11 \\sqrt{5} + 45}{20} & \\frac{87 \\sqrt{5} + 343}{80}\\\\\n",
       "2.00000000 & 2.89442719 & 1 & 2 & \\frac{2 \\left(\\sqrt{5} + 5\\right)}{5} & \\frac{4 \\left(\\sqrt{5} + 5\\right)}{5}\\\\\n",
       "2.00000000 & 3.36803399 & 1 & 2 & \\frac{2 \\sqrt{5} + 9}{4} & \\frac{2 \\sqrt{5} + 9}{2}\\\\\n",
       "2.44721360 & 2.86803399 & 1 & \\frac{\\sqrt{5} + 10}{5} & \\frac{2 \\sqrt{5} + 7}{4} & \\frac{27 \\sqrt{5} + 80}{20}\\\\\n",
       "2.51631190 & 2.75623059 & 2 & \\frac{7 \\sqrt{5} + 85}{40} & \\frac{9 \\sqrt{5} + 35}{20} & \\frac{101 \\sqrt{5} + 329}{80}\\\\\n",
       "2.58541020 & 2.64442719 & 3 & \\frac{3 \\left(\\sqrt{5} + 15\\right)}{20} & \\frac{8 \\sqrt{5} + 35}{20} & \\frac{3 \\left(31 \\sqrt{5} + 113\\right)}{80}\\\\\n",
       "2.65450850 & 2.53262379 & 2 & \\frac{\\sqrt{5} + 19}{8} & \\frac{7 \\left(\\sqrt{5} + 5\\right)}{20} & \\frac{7 \\left(6 \\sqrt{5} + 25\\right)}{40}\\\\\n",
       "2.72360680 & 2.42082039 & 1 & \\frac{\\sqrt{5} + 25}{10} & \\frac{6 \\sqrt{5} + 35}{20} & \\frac{37 \\sqrt{5} + 181}{40}\\\\\n",
       "3.17082039 & 2.39442719 & 1 & \\frac{3 \\sqrt{5} + 25}{10} & \\frac{4 \\sqrt{5} + 15}{10} & \\frac{29 \\left(\\sqrt{5} + 3\\right)}{20}\\\\\n",
       "3.23991869 & 2.28262379 & 1 & \\frac{11 \\sqrt{5} + 105}{40} & \\frac{7 \\sqrt{5} + 30}{20} & \\frac{213 \\sqrt{5} + 707}{160}\\\\\n",
       "3.30901699 & 2.17082039 & 1 & \\frac{\\sqrt{5} + 11}{4} & \\frac{3 \\left(\\sqrt{5} + 5\\right)}{10} & \\frac{3 \\left(4 \\sqrt{5} + 15\\right)}{10}\\\\\n",
       "3.37811529 & 2.05901699 & 1 & \\frac{9 \\sqrt{5} + 115}{40} & \\frac{\\sqrt{5} + 6}{4} & \\frac{169 \\sqrt{5} + 735}{160}\\\\\n",
       "3.44721360 & 1.94721360 & 1 & \\frac{\\sqrt{5} + 15}{5} & \\frac{2 \\sqrt{5} + 15}{10} & \\frac{9 \\sqrt{5} + 47}{10}\\\\\n",
       "3.89442719 & 1.71041020 & 1 & \\frac{2 \\sqrt{5} + 15}{5} & \\frac{6 \\sqrt{5} + 55}{40} & \\frac{40 \\sqrt{5} + 177}{40}\\\\\n",
       "4.34164079 & 1.47360680 & 1 & \\frac{3 \\left(\\sqrt{5} + 5\\right)}{5} & \\frac{2 \\sqrt{5} + 25}{20} & \\frac{3 \\left(7 \\sqrt{5} + 27\\right)}{20}\\\\\n",
       "4.78885438 & 1.23680340 & 1 & \\frac{4 \\sqrt{5} + 15}{5} & \\frac{2 \\sqrt{5} + 45}{40} & \\frac{42 \\sqrt{5} + 143}{40}\\\\\n",
       "\\end{array}$"
      ],
      "text/plain": [
       "<IPython.core.display.Math object>"
      ]
     },
     "metadata": {},
     "output_type": "display_data"
    }
   ],
   "source": [
    "from collections import Counter\n",
    "\n",
    "# convert to numeric (higher precision) then round for grouping\n",
    "pairs_num = []\n",
    "rep_sym = {}\n",
    "for a_sym, b_sym in norm_list:\n",
    "    af = float(sp.N(a_sym, 24))\n",
    "    bf = float(sp.N(b_sym, 24))\n",
    "    key = (round(af, 8), round(bf, 8))   # adjust precision as needed\n",
    "    pairs_num.append(key)\n",
    "    rep_sym.setdefault(key, (a_sym, b_sym))\n",
    "\n",
    "cnt = Counter(pairs_num)\n",
    "\n",
    "rows = []\n",
    "for (n1, n2), c in sorted(cnt.items()):\n",
    "    a_sym, b_sym = rep_sym[(n1, n2)]\n",
    "    prod_sym = latex(sp.together(simplify(a_sym*b_sym)))\n",
    "    a_tex = latex(sp.together(simplify(a_sym)))\n",
    "    b_tex = latex(sp.together(simplify(b_sym)))\n",
    "    rep_tex = f\"{a_tex} & {b_tex}\"          # math-mode representative\n",
    "    rows.append(f\"{n1:.8f} & {n2:.8f} & {c:d} & {rep_tex} & {prod_sym}\\\\\\\\\")\n",
    "\n",
    "# header + join\n",
    "header = r\"\\text{Norm 1} & \\text{Norm 2} & \\text{count} & \\|G_{0,n}\\|^2 & \\|G_{1,n}\\|^2 & \\text{Product}\\\\ \\hline\"\n",
    "body = \"\\n\".join(rows)\n",
    "array_tex = r\"\\begin{array}{r r r c c c}\" + \"\\n\" + header + \"\\n\" + body + \"\\n\" + r\"\\end{array}\"\n",
    "\n",
    "display(Math(array_tex))"
   ]
  },
  {
   "cell_type": "markdown",
   "id": "dc155385",
   "metadata": {},
   "source": [
    "None of them have norm $\\frac{3+\\sqrt{5}}{2}$."
   ]
  }
 ],
 "metadata": {
  "kernelspec": {
   "display_name": "erdos_spring_2025",
   "language": "python",
   "name": "python3"
  },
  "language_info": {
   "codemirror_mode": {
    "name": "ipython",
    "version": 3
   },
   "file_extension": ".py",
   "mimetype": "text/x-python",
   "name": "python",
   "nbconvert_exporter": "python",
   "pygments_lexer": "ipython3",
   "version": "3.12.8"
  }
 },
 "nbformat": 4,
 "nbformat_minor": 5
}
